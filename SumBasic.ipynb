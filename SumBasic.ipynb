{
  "cells": [
    {
      "cell_type": "markdown",
      "metadata": {},
      "source": [
        "# Extractive Summarizer"
      ]
    },
    {
      "cell_type": "markdown",
      "metadata": {},
      "source": [
        "## Importing Libraries"
      ]
    },
    {
      "cell_type": "code",
      "execution_count": 1,
      "metadata": {
        "colab": {},
        "colab_type": "code",
        "id": "z9G5P11zLisE"
      },
      "outputs": [],
      "source": [
        "import numpy as np \n",
        "from nltk.corpus import stopwords\n",
        "from nltk.stem import WordNetLemmatizer\n",
        "from nltk.tokenize import sent_tokenize,word_tokenize\n",
        "from bs4 import BeautifulSoup\n",
        "import requests\n",
        "import re"
      ]
    },
    {
      "cell_type": "markdown",
      "metadata": {},
      "source": [
        "## Download NLTK Packages\n",
        "<div>\n",
        "    <p>The following NLTK Packages are required for the processing of the texts:</p>\n",
        "    <ul>\n",
        "        <li><b>wordnet</b>: WordNet is a lexical database of English. It helps in finding the conceptual relationships between words such as hypernyms, hyponyms, synonyms, antonyms etc.</li>\n",
        "        <li><b>punkt</b>: This tokenizer divides a text into a list of sentences by using an unsupervised algorithm to build a model for abbreviation words, collocations, and words that start sentences.</li>\n",
        "        <li><b>stopwords</b>: Stop words are words that frequently appear in any language or corpus. However, they contribute no additional text, including them for several NLP tasks.</li>\n",
        "    </ul>\n",
        "</div>"
      ]
    },
    {
      "cell_type": "code",
      "execution_count": 2,
      "metadata": {
        "colab": {
          "base_uri": "https://localhost:8080/",
          "height": 134
        },
        "colab_type": "code",
        "id": "ZNYXEzqDLrx9",
        "outputId": "d9ca6bd4-98ba-4091-dd43-e3032f6d77f4"
      },
      "outputs": [
        {
          "name": "stderr",
          "output_type": "stream",
          "text": [
            "[nltk_data] Downloading package wordnet to\n",
            "[nltk_data]     C:\\Users\\aashi\\AppData\\Roaming\\nltk_data...\n",
            "[nltk_data]   Package wordnet is already up-to-date!\n",
            "[nltk_data] Downloading package punkt to\n",
            "[nltk_data]     C:\\Users\\aashi\\AppData\\Roaming\\nltk_data...\n",
            "[nltk_data]   Package punkt is already up-to-date!\n",
            "[nltk_data] Downloading package stopwords to\n",
            "[nltk_data]     C:\\Users\\aashi\\AppData\\Roaming\\nltk_data...\n",
            "[nltk_data]   Package stopwords is already up-to-date!\n"
          ]
        },
        {
          "data": {
            "text/plain": [
              "True"
            ]
          },
          "execution_count": 2,
          "metadata": {},
          "output_type": "execute_result"
        }
      ],
      "source": [
        "import nltk\n",
        "nltk.download('wordnet')\n",
        "nltk.download('punkt')\n",
        "nltk.download('stopwords')"
      ]
    },
    {
      "cell_type": "markdown",
      "metadata": {},
      "source": [
        "## Assemble Article (Basic Scraping)\n",
        "<div>\n",
        "    <p>In this method, the following procedure is being used to assemble the article:</p>\n",
        "    <ol>\n",
        "        <li>Take Input from User (specific to Wikipeadia Page).</li>\n",
        "        <li>Create the Link for the Wikipedia Page</li>\n",
        "        <li>Send a request to the Wikipedia Page to obtain the HTML Page.</li>\n",
        "        <li>Parse the HTML Page.</li>\n",
        "        <li>Obtain all the paragraphs from the Page.</li>\n",
        "        <li>Create an Article by joining all the paragraphs. (Simply concatenated the paragraphs with a space (\" \") between them)</li>\n",
        "        <li>Return the Article.</li>\n",
        "    </ol>\n",
        "</div>"
      ]
    },
    {
      "cell_type": "code",
      "execution_count": 3,
      "metadata": {
        "colab": {},
        "colab_type": "code",
        "id": "fXyJQD1yLvAf"
      },
      "outputs": [],
      "source": [
        "def _input(topic):\n",
        "\tarticle = \"\"\n",
        "\tlink = \"https://en.wikipedia.org/wiki/\" + topic.strip() \n",
        "\tpage = requests.get(link)\n",
        "\tcontent = BeautifulSoup(page.content,'html.parser')\n",
        "\tparagraphs = content.find_all('p')\n",
        "\tfor paragraph in paragraphs:\n",
        "\t\tarticle+= paragraph.text+\" \"\n",
        "\tprint(\"\\n\\n\\n\\nArticle: {}\".format(article))\n",
        "\treturn article\n"
      ]
    },
    {
      "cell_type": "markdown",
      "metadata": {},
      "source": [
        "## Cleaning the Article\n",
        "<div>\n",
        "    <p>Procedure for cleaning the article:</p>\n",
        "    <ol>\n",
        "        <li>Import Limmatizer. (Lemmatization is the process of reducing a word to its base or dictionary form, known as the lemma.)</li>\n",
        "        <li>Convert all the words to lowercase (to make them even because 'A' and 'a' are interpretted as different characters.)</li>\n",
        "        <li>For each sentence, we check the conversion using Regular Expression.</li>\n",
        "        <li>Split each sentence to obtain a complete list of words for that Article.</li>\n",
        "        <li>Remove all the stopwords.</li>\n",
        "        <li>Lemmatize each word in the sentence.</li>\n",
        "        <li>Append the words to form the sentences again.</li>\n",
        "        <li>Return the Lemmatized Article.</li>\n",
        "    </ol>\n",
        "</div>"
      ]
    },
    {
      "cell_type": "code",
      "execution_count": 4,
      "metadata": {
        "colab": {},
        "colab_type": "code",
        "id": "QMlzG6l1L0pK"
      },
      "outputs": [],
      "source": [
        "def clean(sentences):\n",
        "\tlemmatizer = WordNetLemmatizer()\n",
        "\tcleaned_sentences = []\n",
        "\tfor sentence in sentences:\n",
        "\t\tsentence = sentence.lower()\n",
        "\t\tsentence = re.sub(r'[^a-zA-Z]',' ',sentence)\n",
        "\t\tsentence = sentence.split()\n",
        "\t\tsentence = [lemmatizer.lemmatize(word) for word in sentence if word not in set(stopwords.words('english'))]\n",
        "\t\tsentence = ' '.join(sentence)\n",
        "\t\tcleaned_sentences.append(sentence)\n",
        "\tprint(\"\\n\\n\\n\\nCleaned Sentences: {}\".format(cleaned_sentences))\n",
        "\treturn cleaned_sentences"
      ]
    },
    {
      "cell_type": "markdown",
      "metadata": {},
      "source": [
        "## Calcularing Probability\n",
        "<div>\n",
        "    <p>Procedure for calculating the Probability:</p>\n",
        "    <ol>\n",
        "        <li>Split a given sentence into words using the NLTK library to obtain words.</li>\n",
        "        <li>Calculate the number of occurences for each word.</li>\n",
        "        <li>Calculate the Probability of each word (by simply diving the number of occurences for that word by the total number of words)</li>\n",
        "        <li>Create and return the dictionary of the probability.</li>\n",
        "    </ol>\n",
        "</div>"
      ]
    },
    {
      "cell_type": "code",
      "execution_count": 5,
      "metadata": {
        "colab": {},
        "colab_type": "code",
        "id": "njsyZChlMDQL"
      },
      "outputs": [],
      "source": [
        "def init_probability(sentences):\n",
        "\tprobability_dict = {}\n",
        "\twords = word_tokenize('. '.join(sentences))\n",
        "\ttotal_words = len(set(words))\n",
        "\tfor word in words:\n",
        "\t\tif word!='.':\n",
        "\t\t\tif not probability_dict.get(word):\n",
        "\t\t\t\tprobability_dict[word] = 1\n",
        "\t\t\telse:\n",
        "\t\t\t\tprobability_dict[word] += 1\n",
        "\n",
        "\tfor word,count in probability_dict.items():\n",
        "\t\tprobability_dict[word] = count/total_words \n",
        "\t\n",
        "\treturn probability_dict"
      ]
    },
    {
      "cell_type": "code",
      "execution_count": 6,
      "metadata": {
        "colab": {},
        "colab_type": "code",
        "id": "Gcx847gPMF8S"
      },
      "outputs": [],
      "source": [
        "def update_probability(probability_dict,word):\n",
        "\tif probability_dict.get(word):\n",
        "\t\tprobability_dict[word] = probability_dict[word]**2\n",
        "\treturn probability_dict"
      ]
    },
    {
      "cell_type": "code",
      "execution_count": 7,
      "metadata": {
        "colab": {},
        "colab_type": "code",
        "id": "E2BF3MeaMOgU"
      },
      "outputs": [],
      "source": [
        "def average_sentence_weights(sentences,probability_dict):\n",
        "\tsentence_weights = {}\n",
        "\tfor index,sentence in enumerate(sentences):\n",
        "\t\tif len(sentence) != 0:\n",
        "\t\t\taverage_proba = sum([probability_dict[word] for word in sentence if word in probability_dict.keys()])\n",
        "\t\t\taverage_proba /= len(sentence)\n",
        "\t\t\tsentence_weights[index] = average_proba \n",
        "\treturn sentence_weights\n"
      ]
    },
    {
      "cell_type": "markdown",
      "metadata": {},
      "source": [
        "## Generate Summary\n",
        "<div>\n",
        "    <p>Procedure for generating the extractive summary:</p>\n",
        "    <ol>\n",
        "        <li>Enter the loop after checking the condition for the number of sentences.</li>\n",
        "        <li>Obtain the maximum probability word with single argument function (<code>max(, key=...)</code>) to customize the sort order.</li>\n",
        "        <li>Create an Enumeration of the cleaned Article.</li>\n",
        "        <li>For every sentence, obtain the highest probability words.</li>\n",
        "        <li>Obtain the sentences with the maximum probability and create a list.</li>\n",
        "        <li>Sort the Weights for the sentences.</li>\n",
        "        <li>Take the sentence with the hightest weight.</li>\n",
        "        <li>Update the Weights.</li>\n",
        "        <li>Return the Summary.</li>\n",
        "    </ol>\n",
        "</div>"
      ]
    },
    {
      "cell_type": "code",
      "execution_count": 8,
      "metadata": {
        "colab": {},
        "colab_type": "code",
        "id": "nzXqF7hWMQTh"
      },
      "outputs": [],
      "source": [
        "def generate_summary(sentence_weights,probability_dict,cleaned_article,tokenized_article,summary_length = 30):\n",
        "\tsummary = \"\"\n",
        "\tcurrent_length = 0\n",
        "\twhile current_length < summary_length :\n",
        "\t\thighest_probability_word = max(probability_dict,key=probability_dict.get)\n",
        "\t\tsentences_with_max_word= [index for index,sentence in enumerate(cleaned_article) if highest_probability_word in set(word_tokenize(sentence))]\n",
        "\t\tsentence_list = sorted([[index,sentence_weights[index]] for index in sentences_with_max_word], key=lambda x:x[1], reverse=True)\n",
        "\t\tsummary += tokenized_article[sentence_list[0][0]] + \"\\n\"\n",
        "\t\tfor word in word_tokenize(cleaned_article[sentence_list[0][0]]):\n",
        "\t\t\tprobability_dict = update_probability(probability_dict,word)\n",
        "\t\tcurrent_length+=1\n",
        "\treturn summary"
      ]
    },
    {
      "cell_type": "markdown",
      "metadata": {},
      "source": [
        "## Executing the Entire Model\n",
        "<div>\n",
        "    <p>The steps followed in the execution are:</p>\n",
        "    <ol>\n",
        "        <li>Take the name of the Wikipedia page as input from User.</li>\n",
        "        <li>Generate the Article by parsing the Text from the Page.</li>\n",
        "        <li>Take the number of required sentences from the user.</li>\n",
        "        <li>Tokenize the Article for cleaning and further processing.</li>\n",
        "        <li>Clean the Article (for now a basic procedure is used)</li>\n",
        "        <li>Calculate Probability for each word in a Sentence in the Article.</li>\n",
        "        <li>Calculate the average weight/probability for each sentence in the Article for selection.</li>\n",
        "        <li>Generate Summary for the Clean and Tokenized Article based on the Sentence Weights and required length.</li>\n",
        "    </ol>\n",
        "</div>"
      ]
    },
    {
      "cell_type": "code",
      "execution_count": 9,
      "metadata": {
        "colab": {},
        "colab_type": "code",
        "id": "fp_63zzsMS0b"
      },
      "outputs": [],
      "source": [
        "def main():\n",
        "\ttopic = input(\"Enter the title of the wikipedia article to be scraped----->\")\n",
        "\tarticle = _input(topic)\n",
        "\trequired_length = int(input(\"Enter the number of required sentences\"))\n",
        "\ttokenized_article = sent_tokenize(article)\n",
        "\tcleaned_article = clean(tokenized_article) \n",
        "\tprobability_dict = init_probability(cleaned_article)\n",
        "\tsentence_weights = average_sentence_weights(cleaned_article,probability_dict)\n",
        "\tsummary = generate_summary(sentence_weights,probability_dict,cleaned_article,tokenized_article,required_length)\n",
        "\tprint(\"\\n\\n\\n\\n\\n\\nSummary: {}\".format(summary))"
      ]
    },
    {
      "cell_type": "code",
      "execution_count": 10,
      "metadata": {
        "colab": {
          "base_uri": "https://localhost:8080/",
          "height": 185
        },
        "colab_type": "code",
        "id": "MBaXuFyiMVv2",
        "outputId": "bc516d62-a86e-4b20-a56f-a725eaa35412"
      },
      "outputs": [
        {
          "name": "stdout",
          "output_type": "stream",
          "text": [
            "\n",
            "\n",
            "\n",
            "\n",
            "Article: Machine learning (ML) is a field of study in artificial intelligence concerned with the development and study of statistical algorithms that can effectively generalize and thus perform tasks without explicit instructions.[1] Recently, generative artificial neural networks have been able to surpass many previous approaches in performance.[2][3] Machine learning approaches have been applied to large language models, computer vision, speech recognition, email filtering, agriculture, and medicine, where it is too costly to develop algorithms to perform the needed tasks.[4][5]\n",
            " The mathematical foundations of ML are provided by mathematical optimization (mathematical programming) methods. Data mining is a related (parallel) field of study, focusing on exploratory data analysis through unsupervised learning.[7][8]\n",
            " ML is known in its application across business problems under the name predictive analytics. Although not all machine learning is statistically based, computational statistics is an important source of the field's methods.\n",
            " The term machine learning was coined in 1959 by Arthur Samuel, an IBM employee and pioneer in the field of computer gaming and artificial intelligence.[9][10] The synonym self-teaching computers was also used in this time period.[11][12]\n",
            " Although the earliest machine learning model was introduced in the 1950s when Arthur Samuel invented a program that calculated the winning chance in checkers for each side, the history of machine learning roots back to decades of human desire and effort to study human cognitive processes.[13] In 1949, Canadian psychologist Donald Hebb published the book The Organization of Behavior, in which he introduced a theoretical neural structure formed by certain interactions among nerve cells.[14] Hebb’s model of neurons interacting with one another set a groundwork for how AIs and machine learning algorithms work under nodes, or artificial neurons used by computers to communicate data.[13] Other researchers who have studied human cognitive systems contributed to the modern machine learning technologies as well, including logician Walter Pitts and Warren McCulloch, who proposed the early mathematical models of neural networks to come up with algorithms that mirror human thought processes.[13]\n",
            " By the early 1960s an experimental \"learning machine\" with punched tape memory, called Cybertron, had been developed by Raytheon Company to analyze sonar signals, electrocardiograms, and speech patterns using rudimentary reinforcement learning. It was repetitively \"trained\" by a human operator/teacher to recognize patterns and equipped with a \"goof\" button to cause it to re-evaluate incorrect decisions.[15] A representative book on research into machine learning during the 1960s was Nilsson's book on Learning Machines, dealing mostly with machine learning for pattern classification.[16] Interest related to pattern recognition continued into the 1970s, as described by Duda and Hart in 1973.[17] In 1981 a report was given on using teaching strategies so that a neural network learns to recognize 40 characters (26 letters, 10 digits, and 4 special symbols) from a computer terminal.[18]\n",
            " Tom M. Mitchell provided a widely quoted, more formal definition of the algorithms studied in the machine learning field: \"A computer program is said to learn from experience E with respect to some class of tasks T and performance measure P if its performance at tasks in T, as measured by P,  improves with experience E.\"[19] This definition of the tasks in which machine learning is concerned offers a fundamentally operational definition rather than defining the field in cognitive terms. This follows Alan Turing's proposal in his paper \"Computing Machinery and Intelligence\", in which the question \"Can machines think?\" is replaced with the question \"Can machines do what we (as thinking entities) can do?\".[20]\n",
            " Modern-day machine learning has two objectives, one is to classify data based on models which have been developed, the other purpose is to make predictions for future outcomes based on these models. A hypothetical algorithm specific to classifying data may use computer vision of moles coupled with supervised learning in order to train it to classify the cancerous moles. A machine learning algorithm for stock trading may inform the trader of future potential predictions.[21]\n",
            " As a scientific endeavor, machine learning grew out of the quest for artificial intelligence (AI). In the early days of AI as an academic discipline, some researchers were interested in having machines learn from data. They attempted to approach the problem with various symbolic methods, as well as what were then termed \"neural networks\"; these were mostly perceptrons and other models that were later found to be reinventions of the generalized linear models of statistics.[23] Probabilistic reasoning was also employed, especially in automated medical diagnosis.[24]: 488 \n",
            " However, an increasing emphasis on the logical, knowledge-based approach caused a rift between AI and machine learning. Probabilistic systems were plagued by theoretical and practical problems of data acquisition and representation.[24]: 488  By 1980, expert systems had come to dominate AI, and statistics was out of favor.[25] Work on symbolic/knowledge-based learning did continue within AI, leading to inductive logic programming, but the more statistical line of research was now outside the field of AI proper, in pattern recognition and information retrieval.[24]: 708–710, 755  Neural networks research had been abandoned by AI and computer science around the same time. This line, too, was continued outside the AI/CS field, as \"connectionism\", by researchers from other disciplines including Hopfield, Rumelhart, and Hinton. Their main success came in the mid-1980s with the reinvention of backpropagation.[24]: 25 \n",
            " Machine learning (ML), reorganized and recognized as its own field, started to flourish in the 1990s. The field changed its goal from achieving artificial intelligence to tackling solvable problems of a practical nature. It shifted focus away from the symbolic approaches it had inherited from AI, and toward methods and models borrowed from statistics, fuzzy logic, and probability theory.[25]\n",
            " Machine learning and data mining often employ the same methods and overlap significantly, but while machine learning focuses on prediction, based on known properties learned from the training data, data mining focuses on the discovery of (previously) unknown properties in the data (this is the analysis step of knowledge discovery in databases). Data mining uses many machine learning methods, but with different goals; on the other hand, machine learning also employs data mining methods as \"unsupervised learning\" or as a preprocessing step to improve learner accuracy. Much of the confusion between these two research communities (which do often have separate conferences and separate journals, ECML PKDD being a major exception) comes from the basic assumptions they work with: in machine learning, performance is usually evaluated with respect to the ability to reproduce known knowledge, while in knowledge discovery and data mining (KDD) the key task is the discovery of previously unknown knowledge. Evaluated with respect to known knowledge, an uninformed (unsupervised) method will easily be outperformed by other supervised methods, while in a typical KDD task, supervised methods cannot be used due to the unavailability of training data.\n",
            " Machine learning also has intimate ties to optimization: many learning problems are formulated as minimization of some loss function on a training set of examples. Loss functions express the discrepancy between the predictions of the model being trained and the actual problem instances (for example, in classification, one wants to assign a label to instances, and models are trained to correctly predict the pre-assigned labels of a set of examples).[26]\n",
            " The difference between optimization and machine learning arises from the goal of generalization: while optimization algorithms can minimize the loss on a training set, machine learning is concerned with minimizing the loss on unseen samples. Characterizing the generalization of various learning algorithms is an active topic of current research, especially for deep learning algorithms.\n",
            " Machine learning and statistics are closely related fields in terms of methods, but distinct in their principal goal: statistics draws population inferences from a sample, while machine learning finds generalizable predictive patterns.[27] According to Michael I. Jordan, the ideas of machine learning, from methodological principles to theoretical tools, have had a long pre-history in statistics.[28] He also suggested the term data science as a placeholder to call the overall field.[28]\n",
            " Conventional statistical analyses require the a priori selection of a model most suitable for the study data set. In addition, only significant or theoretically relevant variables based on previous experience are included for analysis. In contrast, machine learning is not built on a pre-structured model; rather, the data shape the model by detecting underlying patterns. The more variables (input) used to train the model, the more accurate the ultimate model will be.[29]\n",
            " Leo Breiman distinguished two statistical modeling paradigms: data model and algorithmic model,[30] wherein \"algorithmic model\" means more or less the machine learning algorithms like Random Forest.\n",
            " Some statisticians have adopted methods from machine learning, leading to a combined field that they call statistical learning.[31]\n",
            " Analytical and computational techniques derived from deep-rooted physics of disordered systems can be extended to large-scale problems, including machine learning, e.g., to analyze the weight space of deep neural networks.[32] Statistical physics is thus finding applications in the area of medical diagnostics.[33]\n",
            " A core objective of a learner is to generalize from its experience.[6][34] Generalization in this context is the ability of a learning machine to perform accurately on new, unseen examples/tasks after having experienced a learning data set. The training examples come from some generally unknown probability distribution (considered representative of the space of occurrences) and the learner has to build a general model about this space that enables it to produce sufficiently accurate predictions in new cases.\n",
            " The computational analysis of machine learning algorithms and their performance is a branch of theoretical computer science known as computational learning theory via the Probably Approximately Correct Learning (PAC) model. Because training sets are finite and the future is uncertain, learning theory usually does not yield guarantees of the performance of algorithms. Instead, probabilistic bounds on the performance are quite common. The bias–variance decomposition is one way to quantify generalization error.\n",
            " For the best performance in the context of generalization, the complexity of the hypothesis should match the complexity of the function underlying the data. If the hypothesis is less complex than the function, then the model has under fitted the data. If the complexity of the model is increased in response, then the training error decreases. But if the hypothesis is too complex, then the model is subject to overfitting and generalization will be poorer.[35]\n",
            " In addition to performance bounds, learning theorists study the time complexity and feasibility of learning. In computational learning theory, a computation is considered feasible if it can be done in polynomial time. There are two kinds of time complexity results: Positive results show that a certain class of functions can be learned in polynomial time. Negative results show that certain classes cannot be learned in polynomial time.\n",
            " \n",
            "Machine learning approaches are traditionally divided into three broad categories, which correspond to learning paradigms, depending on the nature of the \"signal\" or \"feedback\" available to the learning system:\n",
            " Supervised learning algorithms build a mathematical model of a set of data that contains both the inputs and the desired outputs.[39] The data is known as training data, and consists of a set of training examples. Each training example has one or more inputs and the desired output, also known as a supervisory signal.  In the mathematical model, each training example is represented by an array or vector, sometimes called a feature vector, and the training data is represented by a matrix. Through iterative optimization of an objective function, supervised learning algorithms learn a function that can be used to predict the output associated with new inputs.[40] An optimal function allows the algorithm to correctly determine the output for inputs that were not a part of the training data. An algorithm that improves the accuracy of its outputs or predictions over time is said to have learned to perform that task.[19]\n",
            " Types of supervised-learning algorithms include active learning, classification and regression.[41] Classification algorithms are used when the outputs are restricted to a limited set of values, and regression algorithms are used when the outputs may have any numerical value within a range. As an example, for a classification algorithm that filters emails, the input would be an incoming email, and the output would be the name of the folder in which to file the email.\n",
            " Similarity learning is an area of supervised machine learning closely related to regression and classification, but the goal is to learn from examples using a similarity function that measures how similar or related two objects are. It has applications in ranking, recommendation systems, visual identity tracking, face verification, and speaker verification.\n",
            " Unsupervised learning algorithms take a set of data that contains only inputs, and find structure in the data, like grouping or clustering of data points. The algorithms, therefore, learn from test data that has not been labeled, classified or categorized. Instead of responding to feedback, unsupervised learning algorithms identify commonalities in the data and react based on the presence or absence of such commonalities in each new piece of data. A central application of unsupervised learning is in the field of density estimation in statistics, such as finding the probability density function.[42] Though unsupervised learning encompasses other domains involving summarizing and explaining data features. Unsupervised learning algorithms streamlined the process of survey and graph large indel based haplotypes of a gene of interest from pan-genome.[43]\n",
            " Cluster analysis is the assignment of a set of observations into subsets (called clusters) so that observations within the same cluster are similar according to one or more predesignated criteria, while observations drawn from different clusters are dissimilar. Different clustering techniques make different assumptions on the structure of the data, often defined by some similarity metric and evaluated, for example, by internal compactness, or the similarity between members of the same cluster, and separation, the difference between clusters. Other methods are based on estimated density and graph connectivity.\n",
            " Semi-supervised learning falls between unsupervised learning (without any labeled training data) and supervised learning (with completely labeled training data). Some of the training examples are missing training labels, yet many machine-learning researchers have found that unlabeled data, when used in conjunction with a small amount of labeled data, can produce a considerable improvement in learning accuracy.\n",
            " In weakly supervised learning, the training labels are noisy, limited, or imprecise; however, these labels are often cheaper to obtain, resulting in larger effective training sets.[44]\n",
            " Reinforcement learning is an area of machine learning concerned with how software agents ought to take actions in an environment so as to maximize some notion of cumulative reward. Due to its generality, the field is studied in many other disciplines, such as game theory, control theory, operations research, information theory, simulation-based optimization, multi-agent systems, swarm intelligence, statistics and genetic algorithms. In reinforcement learning, the environment is typically represented as a Markov decision process (MDP). Many reinforcements learning algorithms use dynamic programming techniques.[45] Reinforcement learning algorithms do not assume knowledge of an exact mathematical model of the MDP and are used when exact models are infeasible. Reinforcement learning algorithms are used in autonomous vehicles or in learning to play a game against a human opponent.\n",
            " Dimensionality reduction is a process of reducing the number of random variables under consideration by obtaining a set of principal variables.[46] In other words, it is a process of reducing the dimension of the feature set, also called the \"number of features\". Most of the dimensionality reduction techniques can be considered as either feature elimination or extraction. One of the popular methods of dimensionality reduction is principal component analysis (PCA). PCA involves changing higher-dimensional data (e.g., 3D) to a smaller space (e.g., 2D). This results in a smaller dimension of data (2D instead of 3D), while keeping all original variables in the model without changing the data.[47]\n",
            "The manifold hypothesis proposes that high-dimensional data sets lie along low-dimensional manifolds, and many dimensionality reduction techniques make this assumption, leading to the area of manifold learning and manifold regularization.\n",
            " Other approaches have been developed which do not fit neatly into this three-fold categorization, and sometimes more than one is used by the same machine learning system. For example, topic modeling, meta-learning.[48]\n",
            " Self-learning, as a machine learning paradigm was introduced in 1982 along with a neural network capable of self-learning, named crossbar adaptive array (CAA).[49] It is learning with no external rewards and no external teacher advice. The CAA self-learning algorithm computes, in a crossbar fashion, both decisions about actions and emotions (feelings) about consequence situations. The system is driven by the interaction between cognition and emotion.[50]\n",
            "The self-learning algorithm updates a memory matrix W =||w(a,s)|| such that in each iteration executes the following machine learning routine: \n",
            " It is a system with only one input, situation, and only one output, action (or behavior) a. There is neither a separate reinforcement input nor an advice input from the environment. The backpropagated value (secondary reinforcement) is the emotion toward the consequence situation. The CAA exists in two environments, one is the behavioral environment where it behaves, and the other is the genetic environment, wherefrom it initially and only once receives initial emotions about situations to be encountered in the behavioral environment. After receiving the genome (species) vector from the genetic environment, the CAA learns a goal-seeking behavior, in an environment that contains both desirable and undesirable situations.[51]\n",
            " Several learning algorithms aim at discovering better representations of the inputs provided during training.[52] Classic examples include principal component analysis and cluster analysis. Feature learning algorithms, also called representation learning algorithms, often attempt to preserve the information in their input but also transform it in a way that makes it useful, often as a pre-processing step before performing classification or predictions. This technique allows reconstruction of the inputs coming from the unknown data-generating distribution, while not being necessarily faithful to configurations that are implausible under that distribution. This replaces manual feature engineering, and allows a machine to both learn the features and use them to perform a specific task.\n",
            " Feature learning can be either supervised or unsupervised. In supervised feature learning, features are learned using labeled input data. Examples include artificial neural networks, multilayer perceptrons, and supervised dictionary learning. In unsupervised feature learning, features are learned with unlabeled input data.  Examples include dictionary learning, independent component analysis, autoencoders, matrix factorization[53] and various forms of clustering.[54][55][56]\n",
            " Manifold learning algorithms attempt to do so under the constraint that the learned representation is low-dimensional. Sparse coding algorithms attempt to do so under the constraint that the learned representation is sparse, meaning that the mathematical model has many zeros. Multilinear subspace learning algorithms aim to learn low-dimensional representations directly from tensor representations for multidimensional data, without reshaping them into higher-dimensional vectors.[57] Deep learning algorithms discover multiple levels of representation, or a hierarchy of features, with higher-level, more abstract features defined in terms of (or generating) lower-level features. It has been argued that an intelligent machine is one that learns a representation that disentangles the underlying factors of variation that explain the observed data.[58]\n",
            " Feature learning is motivated by the fact that machine learning tasks such as classification often require input that is mathematically and computationally convenient to process. However, real-world data such as images, video, and sensory data has not yielded attempts to algorithmically define specific features. An alternative is to discover such features or representations through examination, without relying on explicit algorithms.\n",
            " Sparse dictionary learning is a feature learning method where a training example is represented as a linear combination of basis functions, and is assumed to be a sparse matrix. The method is strongly NP-hard and difficult to solve approximately.[59] A popular heuristic method for sparse dictionary learning is the K-SVD algorithm. Sparse dictionary learning has been applied in several contexts. In classification, the problem is to determine the class to which a previously unseen training example belongs. For a dictionary where each class has already been built, a new training example is associated with the class that is best sparsely represented by the corresponding dictionary. Sparse dictionary learning has also been applied in image de-noising. The key idea is that a clean image patch can be sparsely represented by an image dictionary, but the noise cannot.[60]\n",
            " In data mining, anomaly detection, also known as outlier detection, is the identification of rare items, events or observations which raise suspicions by differing significantly from the majority of the data.[61] Typically, the anomalous items represent an issue such as bank fraud, a structural defect, medical problems or errors in a text. Anomalies are referred to as outliers, novelties, noise, deviations and exceptions.[62]\n",
            " In particular, in the context of abuse and network intrusion detection, the interesting objects are often not rare objects, but unexpected bursts of inactivity. This pattern does not adhere to the common statistical definition of an outlier as a rare object. Many outlier detection methods (in particular, unsupervised algorithms) will fail on such data unless aggregated appropriately. Instead, a cluster analysis algorithm may be able to detect the micro-clusters formed by these patterns.[63]\n",
            " Three broad categories of anomaly detection techniques exist.[64] Unsupervised anomaly detection techniques detect anomalies in an unlabeled test data set under the assumption that the majority of the instances in the data set are normal, by looking for instances that seem to fit the least to the remainder of the data set. Supervised anomaly detection techniques require a data set that has been labeled as \"normal\" and \"abnormal\" and involves training a classifier (the key difference to many other statistical classification problems is the inherently unbalanced nature of outlier detection). Semi-supervised anomaly detection techniques construct a model representing normal behavior from a given normal training data set and then test the likelihood of a test instance to be generated by the model.\n",
            " Robot learning is inspired by a multitude of machine learning methods, starting from supervised learning, reinforcement learning,[65][66] and finally meta-learning (e.g. MAML).\n",
            " Association rule learning is a rule-based machine learning method for discovering relationships between variables in large databases. It is intended to identify strong rules discovered in databases using some measure of \"interestingness\".[67]\n",
            " Rule-based machine learning is a general term for any machine learning method that identifies, learns, or evolves \"rules\" to store, manipulate or apply knowledge. The defining characteristic of a rule-based machine learning algorithm is the identification and utilization of a set of relational rules that collectively represent the knowledge captured by the system. This is in contrast to other machine learning algorithms that commonly identify a singular model that can be universally applied to any instance in order to make a prediction.[68] Rule-based machine learning approaches include learning classifier systems, association rule learning, and artificial immune systems.\n",
            " Based on the concept of strong rules, Rakesh Agrawal, Tomasz Imieliński and Arun Swami introduced association rules for discovering regularities between products in large-scale transaction data recorded by point-of-sale (POS) systems in supermarkets.[69] For example, the rule \n",
            "\n",
            "\n",
            "\n",
            "{\n",
            "\n",
            "o\n",
            "n\n",
            "i\n",
            "o\n",
            "n\n",
            "s\n",
            ",\n",
            "p\n",
            "o\n",
            "t\n",
            "a\n",
            "t\n",
            "o\n",
            "e\n",
            "s\n",
            "\n",
            "}\n",
            "⇒\n",
            "{\n",
            "\n",
            "b\n",
            "u\n",
            "r\n",
            "g\n",
            "e\n",
            "r\n",
            "\n",
            "}\n",
            "\n",
            "\n",
            "{\\displaystyle \\{\\mathrm {onions,potatoes} \\}\\Rightarrow \\{\\mathrm {burger} \\}}\n",
            "\n",
            " found in the sales data of a supermarket would indicate that if a customer buys onions and potatoes together, they are likely to also buy hamburger meat. Such information can be used as the basis for decisions about marketing activities such as promotional pricing or product placements. In addition to market basket analysis, association rules are employed today in application areas including Web usage mining, intrusion detection, continuous production, and bioinformatics. In contrast with sequence mining, association rule learning typically does not consider the order of items either within a transaction or across transactions.\n",
            " Learning classifier systems (LCS) are a family of rule-based machine learning algorithms that combine a discovery component, typically a genetic algorithm, with a learning component, performing either supervised learning, reinforcement learning, or unsupervised learning. They seek to identify a set of context-dependent rules that collectively store and apply knowledge in a piecewise manner in order to make predictions.[70]\n",
            " Inductive logic programming (ILP) is an approach to rule learning using logic programming as a uniform representation for input examples, background knowledge, and hypotheses. Given an encoding of the known background knowledge and a set of examples represented as a logical database of facts, an ILP system will derive a hypothesized logic program that entails all positive and no negative examples. Inductive programming is a related field that considers any kind of programming language for representing hypotheses (and not only logic programming), such as functional programs.\n",
            " Inductive logic programming is particularly useful in bioinformatics and natural language processing. Gordon Plotkin and Ehud Shapiro laid the initial theoretical foundation for inductive machine learning in a logical setting.[71][72][73] Shapiro built their first implementation (Model Inference System) in 1981: a Prolog program that inductively inferred logic programs from positive and negative examples.[74] The term inductive here refers to philosophical induction, suggesting a theory to explain observed facts, rather than mathematical induction, proving a property for all members of a well-ordered set.\n",
            " Performing machine learning can involve creating a model, which is trained on some training data and then can process additional data to make predictions. Various types of models have been used and researched for machine learning systems.\n",
            " Artificial neural networks (ANNs), or connectionist systems, are computing systems vaguely inspired by the biological neural networks that constitute animal brains. Such systems \"learn\" to perform tasks by considering examples, generally without being programmed with any task-specific rules.\n",
            " An ANN is a model based on a collection of connected units or nodes called \"artificial neurons\", which loosely model the neurons in a biological brain. Each connection, like the synapses in a biological brain, can transmit information, a \"signal\", from one artificial neuron to another. An artificial neuron that receives a signal can process it and then signal additional artificial neurons connected to it. In common ANN implementations, the signal at a connection between artificial neurons is a real number, and the output of each artificial neuron is computed by some non-linear function of the sum of its inputs. The connections between artificial neurons are called \"edges\". Artificial neurons and edges typically have a weight that adjusts as learning proceeds. The weight increases or decreases the strength of the signal at a connection. Artificial neurons may have a threshold such that the signal is only sent if the aggregate signal crosses that threshold. Typically, artificial neurons are aggregated into layers. Different layers may perform different kinds of transformations on their inputs. Signals travel from the first layer (the input layer) to the last layer (the output layer), possibly after traversing the layers multiple times.\n",
            " The original goal of the ANN approach was to solve problems in the same way that a human brain would. However, over time, attention moved to performing specific tasks, leading to deviations from biology. Artificial neural networks have been used on a variety of tasks, including computer vision, speech recognition, machine translation, social network filtering, playing board and video games and medical diagnosis.\n",
            " Deep learning consists of multiple hidden layers in an artificial neural network. This approach tries to model the way the human brain processes light and sound into vision and hearing. Some successful applications of deep learning are computer vision and speech recognition.[75]\n",
            " Decision tree learning uses a decision tree as a predictive model to go from observations about an item (represented in the branches) to conclusions about the item's target value (represented in the leaves). It is one of the predictive modeling approaches used in statistics, data mining, and machine learning. Tree models where the target variable can take a discrete set of values are called classification trees; in these tree structures, leaves represent class labels, and branches represent conjunctions of features that lead to those class labels. Decision trees where the target variable can take continuous values (typically real numbers) are called regression trees. In decision analysis, a decision tree can be used to visually and explicitly represent decisions and decision making. In data mining, a decision tree describes data, but the resulting classification tree can be an input for decision-making.\n",
            " Support-vector machines (SVMs), also known as support-vector networks, are a set of related supervised learning methods used for classification and regression. Given a set of training examples, each marked as belonging to one of two categories, an SVM training algorithm builds a model that predicts whether a new example falls into one category.[76]  An SVM training algorithm is a non-probabilistic, binary, linear classifier, although methods such as Platt scaling exist to use SVM in a probabilistic classification setting. In addition to performing linear classification, SVMs can efficiently perform a non-linear classification using what is called the kernel trick, implicitly mapping their inputs into high-dimensional feature spaces.\n",
            " Regression analysis encompasses a large variety of statistical methods to estimate the relationship between input variables and their associated features. Its most common form is linear regression, where a single line is drawn to best fit the given data according to a mathematical criterion such as ordinary least squares. The latter is often extended by regularization methods to mitigate overfitting and bias, as in ridge regression. When dealing with non-linear problems, go-to models include polynomial regression (for example, used for trendline fitting in Microsoft Excel[77]), logistic regression (often used in statistical classification) or even kernel regression, which introduces non-linearity by taking advantage of the kernel trick to implicitly map input variables to higher-dimensional space.\n",
            " A Bayesian network, belief network, or directed acyclic graphical model is a probabilistic graphical model that represents a set of random variables and their conditional independence with a directed acyclic graph (DAG). For example, a Bayesian network could represent the probabilistic relationships between diseases and symptoms. Given symptoms, the network can be used to compute the probabilities of the presence of various diseases. Efficient algorithms exist that perform inference and learning. Bayesian networks that model sequences of variables, like speech signals or protein sequences, are called dynamic Bayesian networks. Generalizations of Bayesian networks that can represent and solve decision problems under uncertainty are called influence diagrams.\n",
            " A Gaussian process is a stochastic process in which every finite collection of the random variables in the process has a multivariate normal distribution, and it relies on a pre-defined covariance function, or kernel, that models how pairs of points relate to each other depending on their locations.\n",
            " Given a set of observed points, or input–output examples, the distribution of the (unobserved) output of a new point as function of its input data can be directly computed by looking like the observed points and the covariances between those points and the new, unobserved point.\n",
            " Gaussian processes are popular surrogate models in Bayesian optimization used to do hyperparameter optimization.\n",
            " A genetic algorithm (GA) is a search algorithm and heuristic technique that mimics the process of natural selection, using methods such as mutation and crossover to generate new genotypes in the hope of finding good solutions to a given problem. In machine learning, genetic algorithms were used in the 1980s and 1990s.[79][80] Conversely, machine learning techniques have been used to improve the performance of genetic and evolutionary algorithms.[81]\n",
            " The theory of belief functions, also referred to as evidence theory or Dempster–Shafer theory, is a general framework for reasoning with uncertainty, with understood connections to other frameworks such as probability, possibility and  imprecise probability theories. These theoretical frameworks can be thought of as a kind of learner and have some analogous properties of how evidence is combined (e.g.,  Dempster's rule of combination), just like how in a pmf-based Bayesian approach would combine probabilities. However, there are many caveats to these beliefs functions when compared to Bayesian approaches in order to incorporate ignorance and Uncertainty quantification. These belief function approaches that are implemented within the machine learning domain typically leverage a fusion approach of various ensemble methods to better handle the learner's decision boundary, low samples, and ambiguous class issues that standard machine learning approach tend to have difficulty resolving.[3][5][10] However, the computational complexity of these algorithms are dependent on the number of propositions (classes), and can lead a much higher computation time when compared to other machine learning approaches.\n",
            " Typically, machine learning models require a high quantity of reliable data in order for the models to perform accurate predictions. When training a machine learning model, machine learning engineers need to target and collect a large and representative sample of data. Data from the training set can be as varied as a corpus of text, a collection of images, sensor data, and data collected from individual users of a service. Overfitting is something to watch out for when training a machine learning model. Trained models derived from biased or non-evaluated data can result in skewed or undesired predictions. Bias models may result in detrimental outcomes thereby furthering the negative impacts on society or objectives. Algorithmic bias is a potential result of data not being fully prepared for training. Machine learning ethics is becoming a field of study and notably be integrated within machine learning engineering teams.\n",
            " Federated learning is an adapted form of distributed artificial intelligence to training machine learning models that decentralizes the training process, allowing for users' privacy to be maintained by not needing to send their data to a centralized server. This also increases efficiency by decentralizing the training process to many devices. For example, Gboard uses federated machine learning to train search query prediction models on users' mobile phones without having to send individual searches back to Google.[82]\n",
            " There are many applications for machine learning, including:\n",
            " In 2006, the media-services provider Netflix held the first \"Netflix Prize\" competition to find a program to better predict user preferences and improve the accuracy of its existing Cinematch movie recommendation algorithm by at least 10%. A joint team made up of researchers from AT&T Labs-Research in collaboration with the teams Big Chaos and Pragmatic Theory built an ensemble model to win the Grand Prize in 2009 for $1 million.[85] Shortly after the prize was awarded, Netflix realized that viewers' ratings were not the best indicators of their viewing patterns (\"everything is a recommendation\") and they changed their recommendation engine accordingly.[86] In 2010 The Wall Street Journal wrote about the firm Rebellion Research and their use of machine learning to predict the financial crisis.[87] In 2012, co-founder of Sun Microsystems, Vinod Khosla, predicted that 80% of medical doctors jobs would be lost in the next two decades to automated machine learning medical diagnostic software.[88] In 2014, it was reported that a machine learning algorithm had been applied in the field of art history to study fine art paintings and that it may have revealed previously unrecognized influences among artists.[89] In 2019 Springer Nature published the first research book created using machine learning.[90] In 2020, machine learning technology was used to help make diagnoses and aid researchers in developing a cure for COVID-19.[91] Machine learning was recently applied to predict the pro-environmental behavior of travelers.[92] Recently, machine learning technology was also applied to optimize smartphone's performance and thermal behavior based on the user's interaction with the phone.[93][94][95] When applied correctly, machine learning algorithms (MLAs) can utilize a wide range of company characteristics to predict stock returns without overfitting. By employing effective feature engineering and combining forecasts, MLAs can generate results that far surpass those obtained from basic linear techniques like OLS.[96]\n",
            " Although machine learning has been transformative in some fields, machine-learning programs often fail to deliver expected results.[97][98][99] Reasons for this are numerous: lack of (suitable) data, lack of access to the data, data bias, privacy problems, badly chosen tasks and algorithms, wrong tools and people, lack of resources, and evaluation problems.[100]\n",
            " The \"black box theory\" poses another yet significant challenge. Black box refers to a situation where the algorithm or the process of producing an output is entirely opaque, meaning that even the coders of the algorithm cannot audit the pattern that the machine extracted out of the data.[101] The House of Lords Select Committee, which claimed that such an “intelligence system” that could have a “substantial impact on an individual’s life” would not be considered acceptable unless it provided “a full and satisfactory explanation for the decisions” it makes.[101]\n",
            " In 2018, a self-driving car from Uber failed to detect a pedestrian, who was killed after a collision.[102] Attempts to use machine learning in healthcare with the IBM Watson system failed to deliver even after years of time and billions of dollars invested.[103][104] Microsoft's chatbot has been reported to produce hostile and offensive response against its users.[105]\n",
            " Machine learning has been used as a strategy to update the evidence related to a systematic review and increased reviewer burden related to the growth of biomedical literature. While it has improved with training sets, it has not yet developed sufficiently to reduce the workload burden without limiting the necessary sensitivity for the findings research themselves.[106]\n",
            " Machine learning approaches in particular can suffer from different data biases. A machine learning system trained specifically on current customers may not be able to predict the needs of new customer groups that are not represented in the training data. When trained on human-made data, machine learning is likely to pick up the constitutional and unconscious biases already present in society.[107]\n",
            " Language models learned from data have been shown to contain human-like biases.[108][109] An experiment carried out by ProPublica, a predictive policing company, regarding machine learning algorithm’s insight towards the recidivism rates among prisoners falsely flagged “black defendants high risk twice as often as white defendants.”[110] In 2015, Google photos would often tag black people as gorillas,[111] and in 2018 this still was not well resolved, but Google reportedly was still using the workaround to remove all gorillas from the training data, and thus was not able to recognize real gorillas at all.[112] Similar issues with recognizing non-white people have been found in many other systems.[113] In 2016, Microsoft tested a chatbot that learned from Twitter, and it quickly picked up racist and sexist language.[114]\n",
            " Because of such challenges, the effective use of machine learning may take longer to be adopted in other domains.[115] Concern for fairness in machine learning, that is, reducing bias in machine learning and propelling its use for human good is increasingly expressed by artificial intelligence scientists, including Fei-Fei Li, who reminds engineers that \"There's nothing artificial about AI...It's inspired by people, it's created by people, and—most importantly—it impacts people. It is a powerful tool we are only just beginning to understand, and that is a profound responsibility.\"[116]\n",
            " Explainable AI (XAI), or Interpretable AI, or Explainable Machine Learning (XML), is artificial intelligence (AI) in which humans can understand the decisions or predictions made by the AI.[117] It contrasts with the \"black box\" concept in machine learning where even its designers cannot explain why an AI arrived at a specific decision.[118] By refining the mental models of users of AI-powered systems and dismantling their misconceptions, XAI promises to help users perform more effectively. XAI may be an implementation of the social right to explanation.\n",
            " Settling on a bad, overly complex theory gerrymandered to fit all the past training data is known as overfitting. Many systems attempt to reduce overfitting by rewarding a theory in accordance with how well it fits the data but penalizing the theory in accordance with how complex the theory is.[119]\n",
            " Learners can also disappoint by \"learning the wrong lesson\". A toy example is that an image classifier trained only on pictures of brown horses and black cats might conclude that all brown patches are likely to be horses.[120] A real-world example is that, unlike humans, current image classifiers often do not primarily make judgments from the spatial relationship between components of the picture, and they learn relationships between pixels that humans are oblivious to, but that still correlate with images of certain types of real objects. Modifying these patterns on a legitimate image can result in \"adversarial\" images that the system misclassifies.[121][122]\n",
            " Adversarial vulnerabilities can also result in nonlinear systems, or from non-pattern perturbations. For some systems, it is possible to change the output by only changing a single adversarially chosen pixel.[123] Machine learning models are often vulnerable to manipulation and/or evasion via adversarial machine learning.[124]\n",
            " Researchers have demonstrated how backdoors can be placed undetectably into classifying (e.g., for categories \"spam\" and well-visible \"not spam\" of posts) machine learning models which are often developed and/or trained by third parties. Parties can change the classification of any input, including in cases for which a type of data/software transparency is provided, possibly including white-box access.[125][126][127]\n",
            " Classification of machine learning models can be validated by accuracy estimation techniques like the holdout method, which splits the data in a training and test set (conventionally 2/3 training set and 1/3 test set designation) and evaluates the performance of the training model on the test set. In comparison, the K-fold-cross-validation method randomly partitions the data into K subsets and then K experiments are performed each respectively considering 1 subset for evaluation and the remaining K-1 subsets for training the model. In addition to the holdout and cross-validation methods, bootstrap, which samples n instances with replacement from the dataset, can be used to assess model accuracy.[128]\n",
            " In addition to overall accuracy, investigators frequently report sensitivity and specificity meaning True Positive Rate (TPR) and True Negative Rate (TNR) respectively. Similarly, investigators sometimes report the false positive rate (FPR) as well as the false negative rate (FNR). However, these rates are ratios that fail to reveal their numerators and denominators. The total operating characteristic (TOC) is an effective method to express a model's diagnostic ability. TOC shows the numerators and denominators of the previously mentioned rates, thus TOC provides more information than the commonly used receiver operating characteristic (ROC) and ROC's associated area under the curve (AUC).[129]\n",
            " Machine learning poses a host of ethical questions. Systems that are trained on datasets collected with biases may exhibit these biases upon use (algorithmic bias), thus digitizing cultural prejudices.[130] For example, in 1988, the UK's Commission for Racial Equality found that St. George's Medical School had been using a computer program trained from data of previous admissions staff and this program had denied nearly 60 candidates who were found to be either women or had non-European sounding names.[107] Using job hiring data from a firm with racist hiring policies may lead to a machine learning system duplicating the bias by scoring job applicants by similarity to previous successful applicants.[131][132] Another example includes predictive policing company Geolitica's predictive algorithm that resulted in “disproportionately high levels of over-policing in low-income and minority communities” after being trained with historical crime data.[133]\n",
            " While responsible collection of data and documentation of algorithmic rules used by a system is considered a critical part of machine learning, some researchers blame lack of participation and representation of minority population in the field of AI for machine learning’s vulnerability to biases.[134] In fact, according to research carried out by the Computing Research Association (CRA) in 2021, “female faculty merely make up 16.1%” of all faculty members who focus on AI among several universities around the world.[135] Furthermore, among the group of “new U.S. resident AI PhD graduates,” 45% identified as white, 22.4% as Asian, 3.2% as Hispanic, and 2.4% as African American, which further demonstrates a lack of diversity in the field of AI.[135]\n",
            " AI can be well-equipped to make decisions in technical fields, which rely heavily on data and historical information. These decisions rely on objectivity and logical reasoning.[136] Because human languages contain biases, machines trained on language corpora will necessarily also learn these biases.[137][138]\n",
            " Other forms of ethical challenges, not related to personal biases, are seen in health care. There are concerns among health care professionals that these systems might not be designed in the public's interest but as income-generating machines.[139] This is especially true in the United States where there is a long-standing ethical dilemma of improving health care, but also increasing profits. For example, the algorithms could be designed to provide patients with unnecessary tests or medication in which the algorithm's proprietary owners hold stakes. There is potential for machine learning in health care to provide professionals an additional tool to diagnose, medicate, and plan recovery paths for patients, but this requires these biases to be mitigated.[140]\n",
            " Since the 2010s, advances in both machine learning algorithms and computer hardware have led to more efficient methods for training deep neural networks (a particular narrow subdomain of machine learning) that contain many layers of non-linear hidden units.[141] By 2019, graphic processing units (GPUs), often with AI-specific enhancements, had displaced CPUs as the dominant method of training large-scale commercial cloud AI.[142] OpenAI estimated the hardware computing used in the largest deep learning projects from AlexNet (2012) to AlphaZero (2017), and found a 300,000-fold increase in the amount of compute required, with a doubling-time trendline of 3.4 months.[143][144]\n",
            " A physical neural network or Neuromorphic computer  is a type of artificial neural network in which an electrically adjustable material is used to emulate the function of a neural synapse. \"Physical\" neural network is used to emphasize the reliance on physical hardware used to emulate neurons as opposed to software-based approaches. More generally the term is applicable to other artificial neural networks in which a memristor or other electrically adjustable resistance material is used to emulate a neural synapse.[145][146]\n",
            " Embedded Machine Learning is a sub-field of machine learning, where the machine learning model is run on embedded systems with limited computing resources such as wearable computers, edge devices and microcontrollers.[147][148][149] Running machine learning model in embedded devices removes the need for transferring and storing data on cloud servers for further processing, henceforth, reducing data breaches and privacy leaks happening because of transferring data, and also minimizes theft of intellectual properties, personal data and business secrets. Embedded Machine Learning could be applied through several techniques including hardware acceleration,[150][151] using approximate computing,[152] optimization of machine learning models and many more.[153][154]\n",
            " Software suites containing a variety of machine learning algorithms include the following:\n",
            " \n",
            "\n",
            "\n",
            "\n",
            "\n",
            "Cleaned Sentences: ['machine learning ml field study artificial intelligence concerned development study statistical algorithm effectively generalize thus perform task without explicit instruction', 'recently generative artificial neural network able surpass many previous approach performance', 'machine learning approach applied large language model computer vision speech recognition email filtering agriculture medicine costly develop algorithm perform needed task', 'mathematical foundation ml provided mathematical optimization mathematical programming method', 'data mining related parallel field study focusing exploratory data analysis unsupervised learning', 'ml known application across business problem name predictive analytics', 'although machine learning statistically based computational statistic important source field method', 'term machine learning coined arthur samuel ibm employee pioneer field computer gaming artificial intelligence', 'synonym self teaching computer also used time period', 'although earliest machine learning model introduced arthur samuel invented program calculated winning chance checker side history machine learning root back decade human desire effort study human cognitive process', 'canadian psychologist donald hebb published book organization behavior introduced theoretical neural structure formed certain interaction among nerve cell', 'hebb model neuron interacting one another set groundwork ai machine learning algorithm work node artificial neuron used computer communicate data', 'researcher studied human cognitive system contributed modern machine learning technology well including logician walter pitt warren mcculloch proposed early mathematical model neural network come algorithm mirror human thought process', 'early experimental learning machine punched tape memory called cybertron developed raytheon company analyze sonar signal electrocardiogram speech pattern using rudimentary reinforcement learning', 'repetitively trained human operator teacher recognize pattern equipped goof button cause evaluate incorrect decision', 'representative book research machine learning nilsson book learning machine dealing mostly machine learning pattern classification', 'interest related pattern recognition continued described duda hart', 'report given using teaching strategy neural network learns recognize character letter digit special symbol computer terminal', 'tom mitchell provided widely quoted formal definition algorithm studied machine learning field computer program said learn experience e respect class task performance measure p performance task measured p improves experience e definition task machine learning concerned offer fundamentally operational definition rather defining field cognitive term', 'follows alan turing proposal paper computing machinery intelligence question machine think', 'replaced question machine thinking entity', 'modern day machine learning two objective one classify data based model developed purpose make prediction future outcome based model', 'hypothetical algorithm specific classifying data may use computer vision mole coupled supervised learning order train classify cancerous mole', 'machine learning algorithm stock trading may inform trader future potential prediction', 'scientific endeavor machine learning grew quest artificial intelligence ai', 'early day ai academic discipline researcher interested machine learn data', 'attempted approach problem various symbolic method well termed neural network mostly perceptrons model later found reinventions generalized linear model statistic', 'probabilistic reasoning also employed especially automated medical diagnosis', 'however increasing emphasis logical knowledge based approach caused rift ai machine learning', 'probabilistic system plagued theoretical practical problem data acquisition representation', 'expert system come dominate ai statistic favor', 'work symbolic knowledge based learning continue within ai leading inductive logic programming statistical line research outside field ai proper pattern recognition information retrieval', 'neural network research abandoned ai computer science around time', 'line continued outside ai c field connectionism researcher discipline including hopfield rumelhart hinton', 'main success came mid reinvention backpropagation', 'machine learning ml reorganized recognized field started flourish', 'field changed goal achieving artificial intelligence tackling solvable problem practical nature', 'shifted focus away symbolic approach inherited ai toward method model borrowed statistic fuzzy logic probability theory', 'machine learning data mining often employ method overlap significantly machine learning focus prediction based known property learned training data data mining focus discovery previously unknown property data analysis step knowledge discovery database', 'data mining us many machine learning method different goal hand machine learning also employ data mining method unsupervised learning preprocessing step improve learner accuracy', 'much confusion two research community often separate conference separate journal ecml pkdd major exception come basic assumption work machine learning performance usually evaluated respect ability reproduce known knowledge knowledge discovery data mining kdd key task discovery previously unknown knowledge', 'evaluated respect known knowledge uninformed unsupervised method easily outperformed supervised method typical kdd task supervised method cannot used due unavailability training data', 'machine learning also intimate tie optimization many learning problem formulated minimization loss function training set example', 'loss function express discrepancy prediction model trained actual problem instance example classification one want assign label instance model trained correctly predict pre assigned label set example', 'difference optimization machine learning arises goal generalization optimization algorithm minimize loss training set machine learning concerned minimizing loss unseen sample', 'characterizing generalization various learning algorithm active topic current research especially deep learning algorithm', 'machine learning statistic closely related field term method distinct principal goal statistic draw population inference sample machine learning find generalizable predictive pattern', 'according michael jordan idea machine learning methodological principle theoretical tool long pre history statistic', 'also suggested term data science placeholder call overall field', 'conventional statistical analysis require priori selection model suitable study data set', 'addition significant theoretically relevant variable based previous experience included analysis', 'contrast machine learning built pre structured model rather data shape model detecting underlying pattern', 'variable input used train model accurate ultimate model', 'leo breiman distinguished two statistical modeling paradigm data model algorithmic model wherein algorithmic model mean le machine learning algorithm like random forest', 'statistician adopted method machine learning leading combined field call statistical learning', 'analytical computational technique derived deep rooted physic disordered system extended large scale problem including machine learning e g analyze weight space deep neural network', 'statistical physic thus finding application area medical diagnostics', 'core objective learner generalize experience', 'generalization context ability learning machine perform accurately new unseen example task experienced learning data set', 'training example come generally unknown probability distribution considered representative space occurrence learner build general model space enables produce sufficiently accurate prediction new case', 'computational analysis machine learning algorithm performance branch theoretical computer science known computational learning theory via probably approximately correct learning pac model', 'training set finite future uncertain learning theory usually yield guarantee performance algorithm', 'instead probabilistic bound performance quite common', 'bias variance decomposition one way quantify generalization error', 'best performance context generalization complexity hypothesis match complexity function underlying data', 'hypothesis le complex function model fitted data', 'complexity model increased response training error decrease', 'hypothesis complex model subject overfitting generalization poorer', 'addition performance bound learning theorist study time complexity feasibility learning', 'computational learning theory computation considered feasible done polynomial time', 'two kind time complexity result positive result show certain class function learned polynomial time', 'negative result show certain class cannot learned polynomial time', 'machine learning approach traditionally divided three broad category correspond learning paradigm depending nature signal feedback available learning system supervised learning algorithm build mathematical model set data contains input desired output', 'data known training data consists set training example', 'training example one input desired output also known supervisory signal', 'mathematical model training example represented array vector sometimes called feature vector training data represented matrix', 'iterative optimization objective function supervised learning algorithm learn function used predict output associated new input', 'optimal function allows algorithm correctly determine output input part training data', 'algorithm improves accuracy output prediction time said learned perform task', 'type supervised learning algorithm include active learning classification regression', 'classification algorithm used output restricted limited set value regression algorithm used output may numerical value within range', 'example classification algorithm filter email input would incoming email output would name folder file email', 'similarity learning area supervised machine learning closely related regression classification goal learn example using similarity function measure similar related two object', 'application ranking recommendation system visual identity tracking face verification speaker verification', 'unsupervised learning algorithm take set data contains input find structure data like grouping clustering data point', 'algorithm therefore learn test data labeled classified categorized', 'instead responding feedback unsupervised learning algorithm identify commonality data react based presence absence commonality new piece data', 'central application unsupervised learning field density estimation statistic finding probability density function', 'though unsupervised learning encompasses domain involving summarizing explaining data feature', 'unsupervised learning algorithm streamlined process survey graph large indel based haplotype gene interest pan genome', 'cluster analysis assignment set observation subset called cluster observation within cluster similar according one predesignated criterion observation drawn different cluster dissimilar', 'different clustering technique make different assumption structure data often defined similarity metric evaluated example internal compactness similarity member cluster separation difference cluster', 'method based estimated density graph connectivity', 'semi supervised learning fall unsupervised learning without labeled training data supervised learning completely labeled training data', 'training example missing training label yet many machine learning researcher found unlabeled data used conjunction small amount labeled data produce considerable improvement learning accuracy', 'weakly supervised learning training label noisy limited imprecise however label often cheaper obtain resulting larger effective training set', 'reinforcement learning area machine learning concerned software agent ought take action environment maximize notion cumulative reward', 'due generality field studied many discipline game theory control theory operation research information theory simulation based optimization multi agent system swarm intelligence statistic genetic algorithm', 'reinforcement learning environment typically represented markov decision process mdp', 'many reinforcement learning algorithm use dynamic programming technique', 'reinforcement learning algorithm assume knowledge exact mathematical model mdp used exact model infeasible', 'reinforcement learning algorithm used autonomous vehicle learning play game human opponent', 'dimensionality reduction process reducing number random variable consideration obtaining set principal variable', 'word process reducing dimension feature set also called number feature', 'dimensionality reduction technique considered either feature elimination extraction', 'one popular method dimensionality reduction principal component analysis pca', 'pca involves changing higher dimensional data e g smaller space e g', 'result smaller dimension data instead keeping original variable model without changing data', 'manifold hypothesis proposes high dimensional data set lie along low dimensional manifold many dimensionality reduction technique make assumption leading area manifold learning manifold regularization', 'approach developed fit neatly three fold categorization sometimes one used machine learning system', 'example topic modeling meta learning', 'self learning machine learning paradigm introduced along neural network capable self learning named crossbar adaptive array caa', 'learning external reward external teacher advice', 'caa self learning algorithm computes crossbar fashion decision action emotion feeling consequence situation', 'system driven interaction cognition emotion', 'self learning algorithm update memory matrix w w iteration executes following machine learning routine system one input situation one output action behavior', 'neither separate reinforcement input advice input environment', 'backpropagated value secondary reinforcement emotion toward consequence situation', 'caa exists two environment one behavioral environment behaves genetic environment wherefrom initially receives initial emotion situation encountered behavioral environment', 'receiving genome specie vector genetic environment caa learns goal seeking behavior environment contains desirable undesirable situation', 'several learning algorithm aim discovering better representation input provided training', 'classic example include principal component analysis cluster analysis', 'feature learning algorithm also called representation learning algorithm often attempt preserve information input also transform way make useful often pre processing step performing classification prediction', 'technique allows reconstruction input coming unknown data generating distribution necessarily faithful configuration implausible distribution', 'replaces manual feature engineering allows machine learn feature use perform specific task', 'feature learning either supervised unsupervised', 'supervised feature learning feature learned using labeled input data', 'example include artificial neural network multilayer perceptrons supervised dictionary learning', 'unsupervised feature learning feature learned unlabeled input data', 'example include dictionary learning independent component analysis autoencoders matrix factorization various form clustering', 'manifold learning algorithm attempt constraint learned representation low dimensional', 'sparse coding algorithm attempt constraint learned representation sparse meaning mathematical model many zero', 'multilinear subspace learning algorithm aim learn low dimensional representation directly tensor representation multidimensional data without reshaping higher dimensional vector', 'deep learning algorithm discover multiple level representation hierarchy feature higher level abstract feature defined term generating lower level feature', 'argued intelligent machine one learns representation disentangles underlying factor variation explain observed data', 'feature learning motivated fact machine learning task classification often require input mathematically computationally convenient process', 'however real world data image video sensory data yielded attempt algorithmically define specific feature', 'alternative discover feature representation examination without relying explicit algorithm', 'sparse dictionary learning feature learning method training example represented linear combination basis function assumed sparse matrix', 'method strongly np hard difficult solve approximately', 'popular heuristic method sparse dictionary learning k svd algorithm', 'sparse dictionary learning applied several context', 'classification problem determine class previously unseen training example belongs', 'dictionary class already built new training example associated class best sparsely represented corresponding dictionary', 'sparse dictionary learning also applied image de noising', 'key idea clean image patch sparsely represented image dictionary noise cannot', 'data mining anomaly detection also known outlier detection identification rare item event observation raise suspicion differing significantly majority data', 'typically anomalous item represent issue bank fraud structural defect medical problem error text', 'anomaly referred outlier novelty noise deviation exception', 'particular context abuse network intrusion detection interesting object often rare object unexpected burst inactivity', 'pattern adhere common statistical definition outlier rare object', 'many outlier detection method particular unsupervised algorithm fail data unless aggregated appropriately', 'instead cluster analysis algorithm may able detect micro cluster formed pattern', 'three broad category anomaly detection technique exist', 'unsupervised anomaly detection technique detect anomaly unlabeled test data set assumption majority instance data set normal looking instance seem fit least remainder data set', 'supervised anomaly detection technique require data set labeled normal abnormal involves training classifier key difference many statistical classification problem inherently unbalanced nature outlier detection', 'semi supervised anomaly detection technique construct model representing normal behavior given normal training data set test likelihood test instance generated model', 'robot learning inspired multitude machine learning method starting supervised learning reinforcement learning finally meta learning e g', 'maml', 'association rule learning rule based machine learning method discovering relationship variable large database', 'intended identify strong rule discovered database using measure interestingness', 'rule based machine learning general term machine learning method identifies learns evolves rule store manipulate apply knowledge', 'defining characteristic rule based machine learning algorithm identification utilization set relational rule collectively represent knowledge captured system', 'contrast machine learning algorithm commonly identify singular model universally applied instance order make prediction', 'rule based machine learning approach include learning classifier system association rule learning artificial immune system', 'based concept strong rule rakesh agrawal tomasz imieli ski arun swami introduced association rule discovering regularity product large scale transaction data recorded point sale po system supermarket', 'example rule n n p e b u r g e r displaystyle mathrm onion potato rightarrow mathrm burger found sale data supermarket would indicate customer buy onion potato together likely also buy hamburger meat', 'information used basis decision marketing activity promotional pricing product placement', 'addition market basket analysis association rule employed today application area including web usage mining intrusion detection continuous production bioinformatics', 'contrast sequence mining association rule learning typically consider order item either within transaction across transaction', 'learning classifier system lcs family rule based machine learning algorithm combine discovery component typically genetic algorithm learning component performing either supervised learning reinforcement learning unsupervised learning', 'seek identify set context dependent rule collectively store apply knowledge piecewise manner order make prediction', 'inductive logic programming ilp approach rule learning using logic programming uniform representation input example background knowledge hypothesis', 'given encoding known background knowledge set example represented logical database fact ilp system derive hypothesized logic program entail positive negative example', 'inductive programming related field considers kind programming language representing hypothesis logic programming functional program', 'inductive logic programming particularly useful bioinformatics natural language processing', 'gordon plotkin ehud shapiro laid initial theoretical foundation inductive machine learning logical setting', 'shapiro built first implementation model inference system prolog program inductively inferred logic program positive negative example', 'term inductive refers philosophical induction suggesting theory explain observed fact rather mathematical induction proving property member well ordered set', 'performing machine learning involve creating model trained training data process additional data make prediction', 'various type model used researched machine learning system', 'artificial neural network anns connectionist system computing system vaguely inspired biological neural network constitute animal brain', 'system learn perform task considering example generally without programmed task specific rule', 'ann model based collection connected unit node called artificial neuron loosely model neuron biological brain', 'connection like synapsis biological brain transmit information signal one artificial neuron another', 'artificial neuron receives signal process signal additional artificial neuron connected', 'common ann implementation signal connection artificial neuron real number output artificial neuron computed non linear function sum input', 'connection artificial neuron called edge', 'artificial neuron edge typically weight adjusts learning proceeds', 'weight increase decrease strength signal connection', 'artificial neuron may threshold signal sent aggregate signal cross threshold', 'typically artificial neuron aggregated layer', 'different layer may perform different kind transformation input', 'signal travel first layer input layer last layer output layer possibly traversing layer multiple time', 'original goal ann approach solve problem way human brain would', 'however time attention moved performing specific task leading deviation biology', 'artificial neural network used variety task including computer vision speech recognition machine translation social network filtering playing board video game medical diagnosis', 'deep learning consists multiple hidden layer artificial neural network', 'approach try model way human brain process light sound vision hearing', 'successful application deep learning computer vision speech recognition', 'decision tree learning us decision tree predictive model go observation item represented branch conclusion item target value represented leaf', 'one predictive modeling approach used statistic data mining machine learning', 'tree model target variable take discrete set value called classification tree tree structure leaf represent class label branch represent conjunction feature lead class label', 'decision tree target variable take continuous value typically real number called regression tree', 'decision analysis decision tree used visually explicitly represent decision decision making', 'data mining decision tree describes data resulting classification tree input decision making', 'support vector machine svms also known support vector network set related supervised learning method used classification regression', 'given set training example marked belonging one two category svm training algorithm build model predicts whether new example fall one category', 'svm training algorithm non probabilistic binary linear classifier although method platt scaling exist use svm probabilistic classification setting', 'addition performing linear classification svms efficiently perform non linear classification using called kernel trick implicitly mapping input high dimensional feature space', 'regression analysis encompasses large variety statistical method estimate relationship input variable associated feature', 'common form linear regression single line drawn best fit given data according mathematical criterion ordinary least square', 'latter often extended regularization method mitigate overfitting bias ridge regression', 'dealing non linear problem go model include polynomial regression example used trendline fitting microsoft excel logistic regression often used statistical classification even kernel regression introduces non linearity taking advantage kernel trick implicitly map input variable higher dimensional space', 'bayesian network belief network directed acyclic graphical model probabilistic graphical model represents set random variable conditional independence directed acyclic graph dag', 'example bayesian network could represent probabilistic relationship disease symptom', 'given symptom network used compute probability presence various disease', 'efficient algorithm exist perform inference learning', 'bayesian network model sequence variable like speech signal protein sequence called dynamic bayesian network', 'generalization bayesian network represent solve decision problem uncertainty called influence diagram', 'gaussian process stochastic process every finite collection random variable process multivariate normal distribution relies pre defined covariance function kernel model pair point relate depending location', 'given set observed point input output example distribution unobserved output new point function input data directly computed looking like observed point covariance point new unobserved point', 'gaussian process popular surrogate model bayesian optimization used hyperparameter optimization', 'genetic algorithm ga search algorithm heuristic technique mimic process natural selection using method mutation crossover generate new genotype hope finding good solution given problem', 'machine learning genetic algorithm used', 'conversely machine learning technique used improve performance genetic evolutionary algorithm', 'theory belief function also referred evidence theory dempster shafer theory general framework reasoning uncertainty understood connection framework probability possibility imprecise probability theory', 'theoretical framework thought kind learner analogous property evidence combined e g dempster rule combination like pmf based bayesian approach would combine probability', 'however many caveat belief function compared bayesian approach order incorporate ignorance uncertainty quantification', 'belief function approach implemented within machine learning domain typically leverage fusion approach various ensemble method better handle learner decision boundary low sample ambiguous class issue standard machine learning approach tend difficulty resolving', 'however computational complexity algorithm dependent number proposition class lead much higher computation time compared machine learning approach', 'typically machine learning model require high quantity reliable data order model perform accurate prediction', 'training machine learning model machine learning engineer need target collect large representative sample data', 'data training set varied corpus text collection image sensor data data collected individual user service', 'overfitting something watch training machine learning model', 'trained model derived biased non evaluated data result skewed undesired prediction', 'bias model may result detrimental outcome thereby furthering negative impact society objective', 'algorithmic bias potential result data fully prepared training', 'machine learning ethic becoming field study notably integrated within machine learning engineering team', 'federated learning adapted form distributed artificial intelligence training machine learning model decentralizes training process allowing user privacy maintained needing send data centralized server', 'also increase efficiency decentralizing training process many device', 'example gboard us federated machine learning train search query prediction model user mobile phone without send individual search back google', 'many application machine learning including medium service provider netflix held first netflix prize competition find program better predict user preference improve accuracy existing cinematch movie recommendation algorithm least', 'joint team made researcher lab research collaboration team big chaos pragmatic theory built ensemble model win grand prize million', 'shortly prize awarded netflix realized viewer rating best indicator viewing pattern everything recommendation changed recommendation engine accordingly', 'wall street journal wrote firm rebellion research use machine learning predict financial crisis', 'co founder sun microsystems vinod khosla predicted medical doctor job would lost next two decade automated machine learning medical diagnostic software', 'reported machine learning algorithm applied field art history study fine art painting may revealed previously unrecognized influence among artist', 'springer nature published first research book created using machine learning', 'machine learning technology used help make diagnosis aid researcher developing cure covid', 'machine learning recently applied predict pro environmental behavior traveler', 'recently machine learning technology also applied optimize smartphone performance thermal behavior based user interaction phone', 'applied correctly machine learning algorithm mlas utilize wide range company characteristic predict stock return without overfitting', 'employing effective feature engineering combining forecast mlas generate result far surpass obtained basic linear technique like ols', 'although machine learning transformative field machine learning program often fail deliver expected result', 'reason numerous lack suitable data lack access data data bias privacy problem badly chosen task algorithm wrong tool people lack resource evaluation problem', 'black box theory pose another yet significant challenge', 'black box refers situation algorithm process producing output entirely opaque meaning even coder algorithm cannot audit pattern machine extracted data', 'house lord select committee claimed intelligence system could substantial impact individual life would considered acceptable unless provided full satisfactory explanation decision make', 'self driving car uber failed detect pedestrian killed collision', 'attempt use machine learning healthcare ibm watson system failed deliver even year time billion dollar invested', 'microsoft chatbot reported produce hostile offensive response user', 'machine learning used strategy update evidence related systematic review increased reviewer burden related growth biomedical literature', 'improved training set yet developed sufficiently reduce workload burden without limiting necessary sensitivity finding research', 'machine learning approach particular suffer different data bias', 'machine learning system trained specifically current customer may able predict need new customer group represented training data', 'trained human made data machine learning likely pick constitutional unconscious bias already present society', 'language model learned data shown contain human like bias', 'experiment carried propublica predictive policing company regarding machine learning algorithm insight towards recidivism rate among prisoner falsely flagged black defendant high risk twice often white defendant google photo would often tag black people gorilla still well resolved google reportedly still using workaround remove gorilla training data thus able recognize real gorilla', 'similar issue recognizing non white people found many system', 'microsoft tested chatbot learned twitter quickly picked racist sexist language', 'challenge effective use machine learning may take longer adopted domain', 'concern fairness machine learning reducing bias machine learning propelling use human good increasingly expressed artificial intelligence scientist including fei fei li reminds engineer nothing artificial ai inspired people created people importantly impact people', 'powerful tool beginning understand profound responsibility', 'explainable ai xai interpretable ai explainable machine learning xml artificial intelligence ai human understand decision prediction made ai', 'contrast black box concept machine learning even designer cannot explain ai arrived specific decision', 'refining mental model user ai powered system dismantling misconception xai promise help user perform effectively', 'xai may implementation social right explanation', 'settling bad overly complex theory gerrymandered fit past training data known overfitting', 'many system attempt reduce overfitting rewarding theory accordance well fit data penalizing theory accordance complex theory', 'learner also disappoint learning wrong lesson', 'toy example image classifier trained picture brown horse black cat might conclude brown patch likely horse', 'real world example unlike human current image classifier often primarily make judgment spatial relationship component picture learn relationship pixel human oblivious still correlate image certain type real object', 'modifying pattern legitimate image result adversarial image system misclassifies', 'adversarial vulnerability also result nonlinear system non pattern perturbation', 'system possible change output changing single adversarially chosen pixel', 'machine learning model often vulnerable manipulation evasion via adversarial machine learning', 'researcher demonstrated backdoor placed undetectably classifying e g category spam well visible spam post machine learning model often developed trained third party', 'party change classification input including case type data software transparency provided possibly including white box access', 'classification machine learning model validated accuracy estimation technique like holdout method split data training test set conventionally training set test set designation evaluates performance training model test set', 'comparison k fold cross validation method randomly partition data k subset k experiment performed respectively considering subset evaluation remaining k subset training model', 'addition holdout cross validation method bootstrap sample n instance replacement dataset used ass model accuracy', 'addition overall accuracy investigator frequently report sensitivity specificity meaning true positive rate tpr true negative rate tnr respectively', 'similarly investigator sometimes report false positive rate fpr well false negative rate fnr', 'however rate ratio fail reveal numerator denominator', 'total operating characteristic toc effective method express model diagnostic ability', 'toc show numerator denominator previously mentioned rate thus toc provides information commonly used receiver operating characteristic roc roc associated area curve auc', 'machine learning pose host ethical question', 'system trained datasets collected bias may exhibit bias upon use algorithmic bias thus digitizing cultural prejudice', 'example uk commission racial equality found st george medical school using computer program trained data previous admission staff program denied nearly candidate found either woman non european sounding name', 'using job hiring data firm racist hiring policy may lead machine learning system duplicating bias scoring job applicant similarity previous successful applicant', 'another example includes predictive policing company geolitica predictive algorithm resulted disproportionately high level policing low income minority community trained historical crime data', 'responsible collection data documentation algorithmic rule used system considered critical part machine learning researcher blame lack participation representation minority population field ai machine learning vulnerability bias', 'fact according research carried computing research association cra female faculty merely make faculty member focus ai among several university around world', 'furthermore among group new u resident ai phd graduate identified white asian hispanic african american demonstrates lack diversity field ai', 'ai well equipped make decision technical field rely heavily data historical information', 'decision rely objectivity logical reasoning', 'human language contain bias machine trained language corpus necessarily also learn bias', 'form ethical challenge related personal bias seen health care', 'concern among health care professional system might designed public interest income generating machine', 'especially true united state long standing ethical dilemma improving health care also increasing profit', 'example algorithm could designed provide patient unnecessary test medication algorithm proprietary owner hold stake', 'potential machine learning health care provide professional additional tool diagnose medicate plan recovery path patient requires bias mitigated', 'since advance machine learning algorithm computer hardware led efficient method training deep neural network particular narrow subdomain machine learning contain many layer non linear hidden unit', 'graphic processing unit gpus often ai specific enhancement displaced cpu dominant method training large scale commercial cloud ai', 'openai estimated hardware computing used largest deep learning project alexnet alphazero found fold increase amount compute required doubling time trendline month', 'physical neural network neuromorphic computer type artificial neural network electrically adjustable material used emulate function neural synapse', 'physical neural network used emphasize reliance physical hardware used emulate neuron opposed software based approach', 'generally term applicable artificial neural network memristor electrically adjustable resistance material used emulate neural synapse', 'embedded machine learning sub field machine learning machine learning model run embedded system limited computing resource wearable computer edge device microcontrollers', 'running machine learning model embedded device remove need transferring storing data cloud server processing henceforth reducing data breach privacy leak happening transferring data also minimizes theft intellectual property personal data business secret', 'embedded machine learning could applied several technique including hardware acceleration using approximate computing optimization machine learning model many', 'software suite containing variety machine learning algorithm include following']\n",
            "\n",
            "\n",
            "\n",
            "\n",
            "\n",
            "\n",
            "Summary: Feature learning can be either supervised or unsupervised.\n",
            "When training a machine learning model, machine learning engineers need to target and collect a large and representative sample of data.\n",
            "[57] Deep learning algorithms discover multiple levels of representation, or a hierarchy of features, with higher-level, more abstract features defined in terms of (or generating) lower-level features.\n",
            "They seek to identify a set of context-dependent rules that collectively store and apply knowledge in a piecewise manner in order to make predictions.\n",
            "[6][34] Generalization in this context is the ability of a learning machine to perform accurately on new, unseen examples/tasks after having experienced a learning data set.\n",
            "[145][146]\n",
            " Embedded Machine Learning is a sub-field of machine learning, where the machine learning model is run on embedded systems with limited computing resources such as wearable computers, edge devices and microcontrollers.\n",
            "[67]\n",
            " Rule-based machine learning is a general term for any machine learning method that identifies, learns, or evolves \"rules\" to store, manipulate or apply knowledge.\n",
            "[105]\n",
            " Machine learning has been used as a strategy to update the evidence related to a systematic review and increased reviewer burden related to the growth of biomedical literature.\n",
            "The term machine learning was coined in 1959 by Arthur Samuel, an IBM employee and pioneer in the field of computer gaming and artificial intelligence.\n",
            "Bayesian networks that model sequences of variables, like speech signals or protein sequences, are called dynamic Bayesian networks.\n",
            "\n"
          ]
        }
      ],
      "source": [
        "if __name__ == \"__main__\":\n",
        "\tmain()"
      ]
    },
    {
      "cell_type": "code",
      "execution_count": null,
      "metadata": {
        "colab": {},
        "colab_type": "code",
        "id": "LPuiaLUiMYkc"
      },
      "outputs": [],
      "source": []
    }
  ],
  "metadata": {
    "colab": {
      "authorship_tag": "ABX9TyOOnfjNIXLmlSVIZrhvEVHX",
      "collapsed_sections": [],
      "include_colab_link": true,
      "name": "SumBasic.ipynb",
      "provenance": []
    },
    "kernelspec": {
      "display_name": "Python 3",
      "name": "python3"
    },
    "language_info": {
      "codemirror_mode": {
        "name": "ipython",
        "version": 3
      },
      "file_extension": ".py",
      "mimetype": "text/x-python",
      "name": "python",
      "nbconvert_exporter": "python",
      "pygments_lexer": "ipython3",
      "version": "3.11.5"
    }
  },
  "nbformat": 4,
  "nbformat_minor": 0
}
